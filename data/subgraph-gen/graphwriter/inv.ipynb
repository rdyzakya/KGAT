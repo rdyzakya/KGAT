{
 "cells": [
  {
   "cell_type": "code",
   "execution_count": 1,
   "metadata": {},
   "outputs": [],
   "source": [
    "import pandas as pd\n",
    "\n",
    "url = \"https://raw.githubusercontent.com/rikdz/GraphWriter/master/data/preprocessed.val.tsv\"\n",
    "\n",
    "df = pd.read_csv(url, sep='\\t', header=None)"
   ]
  },
  {
   "cell_type": "code",
   "execution_count": 2,
   "metadata": {},
   "outputs": [
    {
     "data": {
      "text/html": [
       "<div>\n",
       "<style scoped>\n",
       "    .dataframe tbody tr th:only-of-type {\n",
       "        vertical-align: middle;\n",
       "    }\n",
       "\n",
       "    .dataframe tbody tr th {\n",
       "        vertical-align: top;\n",
       "    }\n",
       "\n",
       "    .dataframe thead th {\n",
       "        text-align: right;\n",
       "    }\n",
       "</style>\n",
       "<table border=\"1\" class=\"dataframe\">\n",
       "  <thead>\n",
       "    <tr style=\"text-align: right;\">\n",
       "      <th></th>\n",
       "      <th>0</th>\n",
       "      <th>1</th>\n",
       "      <th>2</th>\n",
       "      <th>3</th>\n",
       "      <th>4</th>\n",
       "      <th>5</th>\n",
       "    </tr>\n",
       "  </thead>\n",
       "  <tbody>\n",
       "    <tr>\n",
       "      <th>0</th>\n",
       "      <td>Model Uncertainty in Classical Conditioning .</td>\n",
       "      <td>conditioning # t parameters ; # xed generative...</td>\n",
       "      <td>&lt;otherscientificterm&gt; &lt;method&gt; &lt;otherscientifi...</td>\n",
       "      <td>7 1 8</td>\n",
       "      <td>we develop a framework based on &lt;method_3&gt; ave...</td>\n",
       "      <td>3 10 -1 0 1 9 6 10 -1 7 8 5 11 10 -1 4 2 10 -1</td>\n",
       "    </tr>\n",
       "    <tr>\n",
       "      <th>1</th>\n",
       "      <td>Continuous Markov Random Fields for Robust Ste...</td>\n",
       "      <td>middlebury high resolution imagery ; slanted p...</td>\n",
       "      <td>&lt;material&gt; &lt;method&gt; &lt;otherscientificterm&gt; &lt;oth...</td>\n",
       "      <td>2 1 3 ; 4 4 1 ; 0 5 4</td>\n",
       "      <td>in this paper we present a novel &lt;method_4&gt; wh...</td>\n",
       "      <td>4 3 9 -1 8 6 2 7 10 9 -1 9 -1 0 5 11 12 9 -1</td>\n",
       "    </tr>\n",
       "    <tr>\n",
       "      <th>2</th>\n",
       "      <td>A regularization framework for mobile social n...</td>\n",
       "      <td>evolution of social network information ; lear...</td>\n",
       "      <td>&lt;task&gt; &lt;task&gt; &lt;material&gt; &lt;otherscientificterm&gt;...</td>\n",
       "      <td>9 0 8 ; 2 5 9 ; 4 0 7 ; 4 0 6 ; 9 0 0 ; 9 0 3</td>\n",
       "      <td>mobile phone data provides rich dynamic inform...</td>\n",
       "      <td>7 6 15 16 12 -1 3 11 12 -1 9 0 5 17 18 12 -1 2...</td>\n",
       "    </tr>\n",
       "    <tr>\n",
       "      <th>3</th>\n",
       "      <td>Reducing time-synchronous beam search effort u...</td>\n",
       "      <td>so-call stage based look-ahead technique ; 50k...</td>\n",
       "      <td>&lt;method&gt; &lt;material&gt; &lt;method&gt; &lt;method&gt; &lt;method&gt;...</td>\n",
       "      <td>4 0 9 ; 3 6 9 ; 4 1 3 ; 6 0 5 ; 1 5 16 ; 3 0 6</td>\n",
       "      <td>in this paper , we present an efficient &lt;metho...</td>\n",
       "      <td>9 4 3 6 5 18 19 20 21 23 17 -1 0 8 17 -1 10 2 ...</td>\n",
       "    </tr>\n",
       "    <tr>\n",
       "      <th>4</th>\n",
       "      <td>Reconstructing Occluded Surfaces Using Synthet...</td>\n",
       "      <td>synthetic aperture focus ; synthetic apertures...</td>\n",
       "      <td>&lt;otherscientificterm&gt; &lt;otherscientificterm&gt; &lt;o...</td>\n",
       "      <td>11 0 7 ; 13 0 5 ; 3 0 5 ; 0 0 4 ; 3 1 13 ; 2 0 7</td>\n",
       "      <td>most algorithms for &lt;task_7&gt; from &lt;material_11...</td>\n",
       "      <td>7 11 2 17 12 19 24 18 -1 18 -1 14 18 -1 10 1 1...</td>\n",
       "    </tr>\n",
       "    <tr>\n",
       "      <th>...</th>\n",
       "      <td>...</td>\n",
       "      <td>...</td>\n",
       "      <td>...</td>\n",
       "      <td>...</td>\n",
       "      <td>...</td>\n",
       "      <td>...</td>\n",
       "    </tr>\n",
       "    <tr>\n",
       "      <th>995</th>\n",
       "      <td>Distributed Box-Constrained Quadratic Optimiza...</td>\n",
       "      <td>o communication cost ; non-strongly-convex lin...</td>\n",
       "      <td>&lt;otherscientificterm&gt; &lt;task&gt; &lt;method&gt; &lt;method&gt;...</td>\n",
       "      <td>13 6 4 ; 12 1 11 ; 6 4 4 ; 11 6 4 ; 12 6 4 ; 1...</td>\n",
       "      <td>training machine learning models sometimes nee...</td>\n",
       "      <td>7 14 -1 2 8 14 -1 6 0 9 23 14 -1 22 14 -1 5 10...</td>\n",
       "    </tr>\n",
       "    <tr>\n",
       "      <th>996</th>\n",
       "      <td>Rule Selection with Soft Syntactic Features fo...</td>\n",
       "      <td>soft source syntactic constraints ; discrimina...</td>\n",
       "      <td>&lt;otherscientificterm&gt; &lt;method&gt; &lt;method&gt; &lt;task&gt;...</td>\n",
       "      <td>6 0 3 ; 9 3 2</td>\n",
       "      <td>in &lt;task_3&gt; , &lt;method_6&gt; is the task of choosi...</td>\n",
       "      <td>3 6 7 8 12 11 -1 1 5 11 -1 0 4 9 2 13 11 -1 10...</td>\n",
       "    </tr>\n",
       "    <tr>\n",
       "      <th>997</th>\n",
       "      <td>Stochastic cross-layer resource allocation for...</td>\n",
       "      <td>average end-to-end rates ; stochastic approxim...</td>\n",
       "      <td>&lt;metric&gt; &lt;method&gt; &lt;metric&gt; &lt;otherscientificter...</td>\n",
       "      <td>3 0 4 ; 1 0 7 ; 9 1 1 ; 9 0 7</td>\n",
       "      <td>efficient design of &lt;method_11&gt; requires imple...</td>\n",
       "      <td>11 4 3 16 15 -1 9 1 7 5 0 13 17 18 19 15 -1 14...</td>\n",
       "    </tr>\n",
       "    <tr>\n",
       "      <th>998</th>\n",
       "      <td>Learning spectral mapping for speech dereverbe...</td>\n",
       "      <td>deep neural networks ; derever-ebrated speech ...</td>\n",
       "      <td>&lt;method&gt; &lt;material&gt; &lt;task&gt; &lt;material&gt; &lt;task&gt; &lt;...</td>\n",
       "      <td>0 0 9 ; 2 1 4 ; 10 0 9</td>\n",
       "      <td>reverberation distorts &lt;material_8&gt; and usuall...</td>\n",
       "      <td>8 12 11 16 -1 6 2 4 18 16 -1 7 3 16 -1 0 9 10 ...</td>\n",
       "    </tr>\n",
       "    <tr>\n",
       "      <th>999</th>\n",
       "      <td>Learning Step Size Controllers for Robust Neur...</td>\n",
       "      <td>learning rate of neural networks ; stochastic ...</td>\n",
       "      <td>&lt;task&gt; &lt;method&gt; &lt;method&gt; &lt;method&gt; &lt;method&gt; &lt;me...</td>\n",
       "      <td>2 0 4</td>\n",
       "      <td>this paper investigates algorithms to automati...</td>\n",
       "      <td>0 8 -1 1 2 4 9 8 -1 5 8 -1 7 3 6 8 -1</td>\n",
       "    </tr>\n",
       "  </tbody>\n",
       "</table>\n",
       "<p>1000 rows × 6 columns</p>\n",
       "</div>"
      ],
      "text/plain": [
       "                                                     0  \\\n",
       "0        Model Uncertainty in Classical Conditioning .   \n",
       "1    Continuous Markov Random Fields for Robust Ste...   \n",
       "2    A regularization framework for mobile social n...   \n",
       "3    Reducing time-synchronous beam search effort u...   \n",
       "4    Reconstructing Occluded Surfaces Using Synthet...   \n",
       "..                                                 ...   \n",
       "995  Distributed Box-Constrained Quadratic Optimiza...   \n",
       "996  Rule Selection with Soft Syntactic Features fo...   \n",
       "997  Stochastic cross-layer resource allocation for...   \n",
       "998  Learning spectral mapping for speech dereverbe...   \n",
       "999  Learning Step Size Controllers for Robust Neur...   \n",
       "\n",
       "                                                     1  \\\n",
       "0    conditioning # t parameters ; # xed generative...   \n",
       "1    middlebury high resolution imagery ; slanted p...   \n",
       "2    evolution of social network information ; lear...   \n",
       "3    so-call stage based look-ahead technique ; 50k...   \n",
       "4    synthetic aperture focus ; synthetic apertures...   \n",
       "..                                                 ...   \n",
       "995  o communication cost ; non-strongly-convex lin...   \n",
       "996  soft source syntactic constraints ; discrimina...   \n",
       "997  average end-to-end rates ; stochastic approxim...   \n",
       "998  deep neural networks ; derever-ebrated speech ...   \n",
       "999  learning rate of neural networks ; stochastic ...   \n",
       "\n",
       "                                                     2  \\\n",
       "0    <otherscientificterm> <method> <otherscientifi...   \n",
       "1    <material> <method> <otherscientificterm> <oth...   \n",
       "2    <task> <task> <material> <otherscientificterm>...   \n",
       "3    <method> <material> <method> <method> <method>...   \n",
       "4    <otherscientificterm> <otherscientificterm> <o...   \n",
       "..                                                 ...   \n",
       "995  <otherscientificterm> <task> <method> <method>...   \n",
       "996  <otherscientificterm> <method> <method> <task>...   \n",
       "997  <metric> <method> <metric> <otherscientificter...   \n",
       "998  <method> <material> <task> <material> <task> <...   \n",
       "999  <task> <method> <method> <method> <method> <me...   \n",
       "\n",
       "                                                     3  \\\n",
       "0                                                7 1 8   \n",
       "1                                2 1 3 ; 4 4 1 ; 0 5 4   \n",
       "2        9 0 8 ; 2 5 9 ; 4 0 7 ; 4 0 6 ; 9 0 0 ; 9 0 3   \n",
       "3       4 0 9 ; 3 6 9 ; 4 1 3 ; 6 0 5 ; 1 5 16 ; 3 0 6   \n",
       "4     11 0 7 ; 13 0 5 ; 3 0 5 ; 0 0 4 ; 3 1 13 ; 2 0 7   \n",
       "..                                                 ...   \n",
       "995  13 6 4 ; 12 1 11 ; 6 4 4 ; 11 6 4 ; 12 6 4 ; 1...   \n",
       "996                                      6 0 3 ; 9 3 2   \n",
       "997                      3 0 4 ; 1 0 7 ; 9 1 1 ; 9 0 7   \n",
       "998                             0 0 9 ; 2 1 4 ; 10 0 9   \n",
       "999                                              2 0 4   \n",
       "\n",
       "                                                     4  \\\n",
       "0    we develop a framework based on <method_3> ave...   \n",
       "1    in this paper we present a novel <method_4> wh...   \n",
       "2    mobile phone data provides rich dynamic inform...   \n",
       "3    in this paper , we present an efficient <metho...   \n",
       "4    most algorithms for <task_7> from <material_11...   \n",
       "..                                                 ...   \n",
       "995  training machine learning models sometimes nee...   \n",
       "996  in <task_3> , <method_6> is the task of choosi...   \n",
       "997  efficient design of <method_11> requires imple...   \n",
       "998  reverberation distorts <material_8> and usuall...   \n",
       "999  this paper investigates algorithms to automati...   \n",
       "\n",
       "                                                     5  \n",
       "0       3 10 -1 0 1 9 6 10 -1 7 8 5 11 10 -1 4 2 10 -1  \n",
       "1         4 3 9 -1 8 6 2 7 10 9 -1 9 -1 0 5 11 12 9 -1  \n",
       "2    7 6 15 16 12 -1 3 11 12 -1 9 0 5 17 18 12 -1 2...  \n",
       "3    9 4 3 6 5 18 19 20 21 23 17 -1 0 8 17 -1 10 2 ...  \n",
       "4    7 11 2 17 12 19 24 18 -1 18 -1 14 18 -1 10 1 1...  \n",
       "..                                                 ...  \n",
       "995  7 14 -1 2 8 14 -1 6 0 9 23 14 -1 22 14 -1 5 10...  \n",
       "996  3 6 7 8 12 11 -1 1 5 11 -1 0 4 9 2 13 11 -1 10...  \n",
       "997  11 4 3 16 15 -1 9 1 7 5 0 13 17 18 19 15 -1 14...  \n",
       "998  8 12 11 16 -1 6 2 4 18 16 -1 7 3 16 -1 0 9 10 ...  \n",
       "999              0 8 -1 1 2 4 9 8 -1 5 8 -1 7 3 6 8 -1  \n",
       "\n",
       "[1000 rows x 6 columns]"
      ]
     },
     "execution_count": 2,
     "metadata": {},
     "output_type": "execute_result"
    }
   ],
   "source": [
    "df"
   ]
  },
  {
   "cell_type": "code",
   "execution_count": 30,
   "metadata": {},
   "outputs": [
    {
     "data": {
      "text/plain": [
       "['USED-FOR',\n",
       " 'CONJUNCTION',\n",
       " 'FEATURE-OF',\n",
       " 'PART-OF',\n",
       " 'COMPARE',\n",
       " 'EVALUATE-FOR',\n",
       " 'HYPONYM-OF']"
      ]
     },
     "execution_count": 30,
     "metadata": {},
     "output_type": "execute_result"
    }
   ],
   "source": [
    "relations = \"\"\"USED-FOR\n",
    "CONJUNCTION\n",
    "FEATURE-OF\n",
    "PART-OF\n",
    "COMPARE\n",
    "EVALUATE-FOR\n",
    "HYPONYM-OF\"\"\".splitlines()\n",
    "relations"
   ]
  },
  {
   "cell_type": "code",
   "execution_count": 16,
   "metadata": {},
   "outputs": [
    {
     "data": {
      "text/plain": [
       "0    Learning spectral mapping for speech dereverbe...\n",
       "1    deep neural networks ; derever-ebrated speech ...\n",
       "2    <method> <material> <task> <material> <task> <...\n",
       "3                               0 0 9 ; 2 1 4 ; 10 0 9\n",
       "4    reverberation distorts <material_8> and usuall...\n",
       "5    8 12 11 16 -1 6 2 4 18 16 -1 7 3 16 -1 0 9 10 ...\n",
       "Name: 998, dtype: object"
      ]
     },
     "execution_count": 16,
     "metadata": {},
     "output_type": "execute_result"
    }
   ],
   "source": [
    "index = 998\n",
    "df.iloc[index]"
   ]
  },
  {
   "cell_type": "code",
   "execution_count": 17,
   "metadata": {},
   "outputs": [
    {
     "data": {
      "text/plain": [
       "'Learning spectral mapping for speech dereverberation .'"
      ]
     },
     "execution_count": 17,
     "metadata": {},
     "output_type": "execute_result"
    }
   ],
   "source": [
    "df.iloc[index,0]"
   ]
  },
  {
   "cell_type": "code",
   "execution_count": 18,
   "metadata": {},
   "outputs": [
    {
     "data": {
      "text/plain": [
       "['deep neural networks',\n",
       " 'derever-ebrated speech signal',\n",
       " 'automatic speech recognition',\n",
       " 'daily listening environments',\n",
       " 'speaker identification systems',\n",
       " 'estimated spectral representation',\n",
       " 'performance degradation',\n",
       " 'dereverberation problem',\n",
       " 'human speech',\n",
       " 'spectral mapping',\n",
       " 'reverberant speech',\n",
       " 'hearing-impaired listeners',\n",
       " 'speech intelligibility',\n",
       " 'anechoic speech',\n",
       " 'distortion',\n",
       " 'reverberation']"
      ]
     },
     "execution_count": 18,
     "metadata": {},
     "output_type": "execute_result"
    }
   ],
   "source": [
    "df.iloc[index,1].split(\" ; \")"
   ]
  },
  {
   "cell_type": "code",
   "execution_count": 19,
   "metadata": {},
   "outputs": [
    {
     "data": {
      "text/plain": [
       "['<method>',\n",
       " '<material>',\n",
       " '<task>',\n",
       " '<material>',\n",
       " '<task>',\n",
       " '<method>',\n",
       " '<metric>',\n",
       " '<task>',\n",
       " '<material>',\n",
       " '<method>',\n",
       " '<material>',\n",
       " '<otherscientificterm>',\n",
       " '<task>',\n",
       " '<material>',\n",
       " '<otherscientificterm>',\n",
       " '<otherscientificterm>']"
      ]
     },
     "execution_count": 19,
     "metadata": {},
     "output_type": "execute_result"
    }
   ],
   "source": [
    "df.iloc[index,2].split()"
   ]
  },
  {
   "cell_type": "code",
   "execution_count": 27,
   "metadata": {},
   "outputs": [
    {
     "data": {
      "text/plain": [
       "True"
      ]
     },
     "execution_count": 27,
     "metadata": {},
     "output_type": "execute_result"
    }
   ],
   "source": [
    "len(df.iloc[index,1].split(\" ; \")) == len(df.iloc[index,2].split())"
   ]
  },
  {
   "cell_type": "code",
   "execution_count": 20,
   "metadata": {},
   "outputs": [
    {
     "data": {
      "text/plain": [
       "['0 0 9', '2 1 4', '10 0 9']"
      ]
     },
     "execution_count": 20,
     "metadata": {},
     "output_type": "execute_result"
    }
   ],
   "source": [
    "df.iloc[index,3].split(\" ; \") # subject - relation - object"
   ]
  },
  {
   "cell_type": "code",
   "execution_count": 31,
   "metadata": {},
   "outputs": [
    {
     "name": "stdout",
     "output_type": "stream",
     "text": [
      "(deep neural networks - USED-FOR - spectral mapping)\n",
      "(automatic speech recognition - CONJUNCTION - speaker identification systems)\n",
      "(reverberant speech - USED-FOR - spectral mapping)\n"
     ]
    }
   ],
   "source": [
    "ent = df.iloc[index,1].split(\" ; \")\n",
    "for el in df.iloc[index,3].split(\" ; \"):\n",
    "    s, r, o = el.split()\n",
    "    s, r, o = int(s), int(r), int(o)\n",
    "    s, r, o, = ent[s], relations[r], ent[o]\n",
    "    print(f\"({s} - {r} - {o})\")"
   ]
  },
  {
   "cell_type": "code",
   "execution_count": 21,
   "metadata": {},
   "outputs": [
    {
     "data": {
      "text/plain": [
       "'reverberation distorts <material_8> and usually has negative effects on <task_12> , especially for <otherscientificterm_11> . it also causes <metric_6> in <task_2> and <task_4> . therefore , the <task_7> must be dealt with in <material_3> . we propose to use <method_0> to learn a <method_9> from the <material_10> to the <material_13> . the trained <method_0> produces the <method_5> of the corresponding <material_13> . we demonstrate that <otherscientificterm_14> caused by <otherscientificterm_15> is substantially attenuated by the <method_0> whose outputs can be resynthesized to the <material_1> . the proposed <method_0> is simple , and our systematic evaluation shows promising dereverberation results , which are significantly better than those of related systems .'"
      ]
     },
     "execution_count": 21,
     "metadata": {},
     "output_type": "execute_result"
    }
   ],
   "source": [
    "df.iloc[index,4]"
   ]
  },
  {
   "cell_type": "code",
   "execution_count": 22,
   "metadata": {},
   "outputs": [
    {
     "data": {
      "text/plain": [
       "'8 12 11 16 -1 6 2 4 18 16 -1 7 3 16 -1 0 9 10 13 17 19 16 -1 5 16 -1 14 15 1 16 -1 16 -1'"
      ]
     },
     "execution_count": 22,
     "metadata": {},
     "output_type": "execute_result"
    }
   ],
   "source": [
    "df.iloc[index, 5]"
   ]
  },
  {
   "cell_type": "code",
   "execution_count": null,
   "metadata": {},
   "outputs": [],
   "source": []
  }
 ],
 "metadata": {
  "kernelspec": {
   "display_name": "base",
   "language": "python",
   "name": "python3"
  },
  "language_info": {
   "codemirror_mode": {
    "name": "ipython",
    "version": 3
   },
   "file_extension": ".py",
   "mimetype": "text/x-python",
   "name": "python",
   "nbconvert_exporter": "python",
   "pygments_lexer": "ipython3",
   "version": "3.9.17"
  }
 },
 "nbformat": 4,
 "nbformat_minor": 2
}
