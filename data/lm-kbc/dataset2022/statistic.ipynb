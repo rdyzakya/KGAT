{
 "cells": [
  {
   "cell_type": "code",
   "execution_count": 22,
   "metadata": {},
   "outputs": [],
   "source": [
    "import json\n",
    "import networkx as nx\n",
    "\n",
    "def summarize_statistic(graph_data):\n",
    "    G = nx.DiGraph()\n",
    "\n",
    "    for s, o, r in graph_data[\"coo\"]:\n",
    "        G.add_edge(s, o, relation=r)\n",
    "    \n",
    "    stats = {\n",
    "        \"Avg node degree\" : len(graph_data[\"coo\"])/ graph_data[\"num_entities\"],\n",
    "        \"Density\" : nx.density(G),\n",
    "        \"Avg degree centrality\": sum(nx.degree_centrality(G).values())/graph_data[\"num_entities\"],\n",
    "        \"Avg betweenness centrality\": sum(nx.betweenness_centrality(G).values())/graph_data[\"num_entities\"],\n",
    "        \"Avg closeness centrality\": sum(nx.closeness_centrality(G).values())/graph_data[\"num_entities\"],\n",
    "    }\n",
    "\n",
    "    return stats"
   ]
  },
  {
   "cell_type": "code",
   "execution_count": 26,
   "metadata": {},
   "outputs": [
    {
     "data": {
      "text/plain": [
       "{'Avg node degree': 1.6116094986807388,\n",
       " 'Density': 0.0007890385413044767,\n",
       " 'Avg degree centrality': 0.0015755788075441672,\n",
       " 'Avg betweenness centrality': 6.496659856764448e-09,\n",
       " 'Avg closeness centrality': 0.0007923029749861181}"
      ]
     },
     "execution_count": 26,
     "metadata": {},
     "output_type": "execute_result"
    }
   ],
   "source": [
    "with open(\"./proc/train.json\", 'r') as fp:\n",
    "    train = json.load(fp)\n",
    "\n",
    "train_stats = summarize_statistic(train)\n",
    "train_stats"
   ]
  },
  {
   "cell_type": "code",
   "execution_count": 27,
   "metadata": {},
   "outputs": [
    {
     "data": {
      "text/plain": [
       "{'Avg node degree': 1.36750651607298,\n",
       " 'Density': 0.0011114042509317297,\n",
       " 'Avg degree centrality': 0.002218946106551809,\n",
       " 'Avg betweenness centrality': 0.0,\n",
       " 'Avg closeness centrality': 0.0011094730532758986}"
      ]
     },
     "execution_count": 27,
     "metadata": {},
     "output_type": "execute_result"
    }
   ],
   "source": [
    "with open(\"./proc/dev.json\", 'r') as fp:\n",
    "    dev = json.load(fp)\n",
    "\n",
    "dev_stats = summarize_statistic(dev)\n",
    "dev_stats"
   ]
  },
  {
   "cell_type": "code",
   "execution_count": 28,
   "metadata": {},
   "outputs": [
    {
     "data": {
      "text/plain": [
       "{'Avg node degree': 0.0,\n",
       " 'Density': 0,\n",
       " 'Avg degree centrality': 0.0,\n",
       " 'Avg betweenness centrality': 0.0,\n",
       " 'Avg closeness centrality': 0.0}"
      ]
     },
     "execution_count": 28,
     "metadata": {},
     "output_type": "execute_result"
    }
   ],
   "source": [
    "with open(\"./proc/test.json\", 'r') as fp:\n",
    "    test = json.load(fp)\n",
    "\n",
    "test_stats = summarize_statistic(test)\n",
    "test_stats"
   ]
  },
  {
   "cell_type": "code",
   "execution_count": null,
   "metadata": {},
   "outputs": [],
   "source": []
  }
 ],
 "metadata": {
  "kernelspec": {
   "display_name": "base",
   "language": "python",
   "name": "python3"
  },
  "language_info": {
   "codemirror_mode": {
    "name": "ipython",
    "version": 3
   },
   "file_extension": ".py",
   "mimetype": "text/x-python",
   "name": "python",
   "nbconvert_exporter": "python",
   "pygments_lexer": "ipython3",
   "version": "3.9.17"
  }
 },
 "nbformat": 4,
 "nbformat_minor": 2
}
