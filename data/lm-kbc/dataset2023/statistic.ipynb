{
 "cells": [
  {
   "cell_type": "code",
   "execution_count": 1,
   "metadata": {},
   "outputs": [],
   "source": [
    "import json\n",
    "import networkx as nx\n",
    "\n",
    "def summarize_statistic(graph_data):\n",
    "    G = nx.DiGraph()\n",
    "\n",
    "    for s, o, r in graph_data[\"coo\"]:\n",
    "        G.add_edge(s, o, relation=r)\n",
    "    \n",
    "    stats = {\n",
    "        \"Avg node degree\" : len(graph_data[\"coo\"])/ graph_data[\"num_entities\"],\n",
    "        \"Density\" : nx.density(G),\n",
    "        \"Avg degree centrality\": sum(nx.degree_centrality(G).values())/graph_data[\"num_entities\"],\n",
    "        \"Avg betweenness centrality\": sum(nx.betweenness_centrality(G).values())/graph_data[\"num_entities\"],\n",
    "        \"Avg closeness centrality\": sum(nx.closeness_centrality(G).values())/graph_data[\"num_entities\"],\n",
    "    }\n",
    "\n",
    "    return stats"
   ]
  },
  {
   "cell_type": "code",
   "execution_count": 2,
   "metadata": {},
   "outputs": [
    {
     "data": {
      "text/plain": [
       "{'Avg node degree': 0.9349852796859667,\n",
       " 'Density': 0.00025524847132293475,\n",
       " 'Avg degree centrality': 0.0004839450898879857,\n",
       " 'Avg betweenness centrality': 5.20560444943932e-07,\n",
       " 'Avg closeness centrality': 0.0003804872669994633}"
      ]
     },
     "execution_count": 2,
     "metadata": {},
     "output_type": "execute_result"
    }
   ],
   "source": [
    "with open(\"./proc/train.json\", 'r') as fp:\n",
    "    train = json.load(fp)\n",
    "\n",
    "train_stats = summarize_statistic(train)\n",
    "train_stats"
   ]
  },
  {
   "cell_type": "code",
   "execution_count": 3,
   "metadata": {},
   "outputs": [
    {
     "data": {
      "text/plain": [
       "{'Avg node degree': 0.9262414800389484,\n",
       " 'Density': 0.00025029111804726606,\n",
       " 'Avg degree centrality': 0.00047511444462819543,\n",
       " 'Avg betweenness centrality': 1.2686971651065607e-07,\n",
       " 'Avg closeness centrality': 0.0002968602953885731}"
      ]
     },
     "execution_count": 3,
     "metadata": {},
     "output_type": "execute_result"
    }
   ],
   "source": [
    "with open(\"./proc/val.json\", 'r') as fp:\n",
    "    dev = json.load(fp)\n",
    "\n",
    "dev_stats = summarize_statistic(dev)\n",
    "dev_stats"
   ]
  },
  {
   "cell_type": "code",
   "execution_count": 4,
   "metadata": {},
   "outputs": [
    {
     "data": {
      "text/plain": [
       "{'Avg node degree': 0.0,\n",
       " 'Density': 0,\n",
       " 'Avg degree centrality': 0.0,\n",
       " 'Avg betweenness centrality': 0.0,\n",
       " 'Avg closeness centrality': 0.0}"
      ]
     },
     "execution_count": 4,
     "metadata": {},
     "output_type": "execute_result"
    }
   ],
   "source": [
    "with open(\"./proc/test.json\", 'r') as fp:\n",
    "    test = json.load(fp)\n",
    "\n",
    "test_stats = summarize_statistic(test)\n",
    "test_stats"
   ]
  },
  {
   "cell_type": "code",
   "execution_count": null,
   "metadata": {},
   "outputs": [],
   "source": []
  }
 ],
 "metadata": {
  "kernelspec": {
   "display_name": "base",
   "language": "python",
   "name": "python3"
  },
  "language_info": {
   "codemirror_mode": {
    "name": "ipython",
    "version": 3
   },
   "file_extension": ".py",
   "mimetype": "text/x-python",
   "name": "python",
   "nbconvert_exporter": "python",
   "pygments_lexer": "ipython3",
   "version": "3.9.17"
  }
 },
 "nbformat": 4,
 "nbformat_minor": 2
}
