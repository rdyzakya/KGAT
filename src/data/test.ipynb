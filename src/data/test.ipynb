{
 "cells": [
  {
   "cell_type": "markdown",
   "metadata": {},
   "source": [
    "# LM KBC"
   ]
  },
  {
   "cell_type": "code",
   "execution_count": 2,
   "metadata": {},
   "outputs": [],
   "source": [
    "from ds import *\n",
    "import os\n",
    "\n",
    "path = \"D:\\Second Brain\\Projects\\Tesis\\Eksperimen\\KGAT\\data\\lm-kbc\\lm-kbc2022\\proc\"\n",
    "\n",
    "id2entity = load_id2map(os.path.join(path, \"entities.txt\"))\n",
    "id2relation = load_id2map(os.path.join(path, \"relations.txt\"))\n",
    "triples = load_json(os.path.join(path, \"triples.json\"))"
   ]
  },
  {
   "cell_type": "code",
   "execution_count": 3,
   "metadata": {},
   "outputs": [
    {
     "data": {
      "text/plain": [
       "'Selenium Trioxide'"
      ]
     },
     "execution_count": 3,
     "metadata": {},
     "output_type": "execute_result"
    }
   ],
   "source": [
    "id2entity[99]"
   ]
  },
  {
   "cell_type": "code",
   "execution_count": 4,
   "metadata": {},
   "outputs": [],
   "source": [
    "lmkbcds = LMKBCDataset(os.path.join(path, \"train.json\"), id2entity, id2relation, triples, \"\")"
   ]
  },
  {
   "cell_type": "code",
   "execution_count": 5,
   "metadata": {},
   "outputs": [],
   "source": [
    "coba = lmkbcds[0]"
   ]
  },
  {
   "cell_type": "code",
   "execution_count": 6,
   "metadata": {},
   "outputs": [
    {
     "data": {
      "text/plain": [
       "'S : Acetaldehyde | R : ChemicalCompoundElement | O : '"
      ]
     },
     "execution_count": 6,
     "metadata": {},
     "output_type": "execute_result"
    }
   ],
   "source": [
    "coba[0]"
   ]
  },
  {
   "cell_type": "code",
   "execution_count": 7,
   "metadata": {},
   "outputs": [
    {
     "data": {
      "text/plain": [
       "['Kura river',\n",
       " 'hydrogen',\n",
       " 'carbon',\n",
       " 'oxygen',\n",
       " 'Borax',\n",
       " 'boron',\n",
       " 'sodium',\n",
       " 'canada',\n",
       " 'english\\tamerican english\\tbritish english',\n",
       " 'Amber Liu',\n",
       " 'guitar\\tbass guitar\\t12-string guitar\\telectric guitar\\tacoustic guitar\\tsteel-string acoustic guitar\\tclassical guitar',\n",
       " 'Amy Lee',\n",
       " 'Axl Rose',\n",
       " 'Billy Idol',\n",
       " 'Brian May',\n",
       " 'Bruce Springsteen',\n",
       " 'Chris Cornell',\n",
       " 'Dave Mustaine',\n",
       " 'David Bowie',\n",
       " 'David Coverdale',\n",
       " 'David Crosby',\n",
       " 'David Gilmour',\n",
       " 'Dougie Poynter',\n",
       " 'Eric Clapton',\n",
       " 'Flea',\n",
       " 'Florence Welch',\n",
       " 'Geezer Butler',\n",
       " 'Gene Simmons',\n",
       " 'Glenn Hughes',\n",
       " 'Harry Styles',\n",
       " 'Hayley Williams',\n",
       " 'Nitroglycerin',\n",
       " 'Henry Lau',\n",
       " 'Jack White',\n",
       " 'James Maslow',\n",
       " 'Kingdom of the Netherlands',\n",
       " 'Johnny Marr',\n",
       " 'Guyana',\n",
       " 'Jung Yong-hwa',\n",
       " 'Justin Timberlake',\n",
       " 'Keith Richards',\n",
       " 'Kendall Schmidt',\n",
       " 'nepali',\n",
       " 'Lee Hong-gi',\n",
       " 'Liam Gallagher',\n",
       " 'Liam Payne',\n",
       " 'Marilyn Manson',\n",
       " 'Marisa Monte',\n",
       " 'Matt Bellamy',\n",
       " 'Mick Jagger',\n",
       " 'Mikey Way',\n",
       " 'Niall Horan',\n",
       " 'Paul Stanley',\n",
       " 'Paul Weller',\n",
       " 'Phil Collins',\n",
       " 'Randy Jackson',\n",
       " 'Ray Toro',\n",
       " 'Ringo Starr',\n",
       " 'Ronnie James Dio',\n",
       " 'Sammy Hagar',\n",
       " 'Sayaka Yamamoto',\n",
       " 'Tom Petty',\n",
       " 'Vince Neil',\n",
       " 'Willie Nelson',\n",
       " 'Yūko Ōshima',\n",
       " 'Zakk Wylde',\n",
       " 'Ed Sheeran',\n",
       " 'Paul McCartney',\n",
       " 'Neil Young',\n",
       " \"china\\tpeople's republic of china\",\n",
       " 'brazil',\n",
       " 'georgia',\n",
       " 'azerbaijan',\n",
       " 'turkey',\n",
       " 'india',\n",
       " 'google',\n",
       " 'venezuela',\n",
       " 'suriname',\n",
       " 'singer-songwriter\\tsinger\\tsongwriter\\tpop singer',\n",
       " 'actor\\tfilm actor\\ttelevision actor\\tvoice actor\\tcharacter actor\\tdub actor\\tchild actor\\tstage actor\\tpornographic actor',\n",
       " 'producer\\tfilm producer\\trecord producer\\ttelevision producer\\texecutive producer\\tmusic producer',\n",
       " 'Chad Hurley',\n",
       " 'composer\\tfilm score composer',\n",
       " 'musician\\tsalsa musician',\n",
       " 'Arnel Pineda',\n",
       " 'Billie Joe Armstrong',\n",
       " 'Billy Corgan',\n",
       " 'China Anne McClain',\n",
       " 'Chris Daughtry',\n",
       " 'Corey Taylor',\n",
       " 'Courtney Love',\n",
       " 'Duff McKagan',\n",
       " 'Gerard Way',\n",
       " 'Hisashi',\n",
       " 'Joe Perry',\n",
       " 'John Lennon',\n",
       " 'Lay',\n",
       " 'guitarist\\tbass guitarist',\n",
       " 'Lee Jung-shin',\n",
       " 'Noel Gallagher',\n",
       " 'Rea Garvey',\n",
       " 'Roger Taylor',\n",
       " 'Slash',\n",
       " 'Sting',\n",
       " 'Tom Morello',\n",
       " 'Tony Iommi',\n",
       " 'Yoshiki',\n",
       " 'Nepal',\n",
       " 'Araguaia river',\n",
       " 'Great whale river']"
      ]
     },
     "execution_count": 7,
     "metadata": {},
     "output_type": "execute_result"
    }
   ],
   "source": [
    "coba[1]"
   ]
  },
  {
   "cell_type": "code",
   "execution_count": 8,
   "metadata": {},
   "outputs": [
    {
     "data": {
      "text/plain": [
       "['ChemicalCompoundElement',\n",
       " 'CountryBordersWithCountry',\n",
       " 'CountryOfficialLanguage',\n",
       " 'PersonEmployer',\n",
       " 'PersonInstrument',\n",
       " 'PersonLanguage',\n",
       " 'PersonProfession',\n",
       " 'RiverBasinsCountry']"
      ]
     },
     "execution_count": 8,
     "metadata": {},
     "output_type": "execute_result"
    }
   ],
   "source": [
    "coba[2]"
   ]
  },
  {
   "cell_type": "code",
   "execution_count": 9,
   "metadata": {},
   "outputs": [
    {
     "data": {
      "text/plain": [
       "tensor([[  4,   4,   4,   4,  31, 107, 107, 107,  81,   9,  11,  12,  13,  13,\n",
       "          14,  14,  15,  16,  16,  17,  18,  19,  19,  20,  20,  21,  21,  22,\n",
       "          22,  23,  23,  24,  25,  26,  26,  27,  27,  28,  28,  29,  30,  30,\n",
       "          32,  33,  34,  36,  38,  39,  40,  41,  43,  44,  45,  46,  46,  47,\n",
       "          48,  49,  50,  50,  68,  51,  52,  52,  53,  54,  54,  55,  55,  56,\n",
       "          57,  58,  59,  60,  61,  62,  63,  63,  63,  63,  63,  64,  65,  66,\n",
       "          66,  66,  66,  66,  66,  66,  66,  66,  66,  66, 108, 109,  37,  37,\n",
       "          37,  35,  37,  84,  85,  86,  87,  88,  89,  89,  90,  91,  91,  92,\n",
       "          93,  94,  94,  95,  95,  96,  98,  99,  67,  67, 100, 101, 101, 102,\n",
       "         102, 103, 103, 103, 104, 105, 106,   0,   0,   0],\n",
       "        [  0,   0,   0,   0,   0,   1,   1,   2,   3,   4,   4,   4,   4,   4,\n",
       "           4,   4,   4,   4,   4,   4,   4,   4,   4,   4,   4,   4,   4,   4,\n",
       "           4,   4,   4,   4,   4,   4,   4,   4,   4,   4,   4,   4,   4,   4,\n",
       "           4,   4,   4,   4,   4,   4,   4,   4,   4,   4,   4,   4,   4,   4,\n",
       "           4,   4,   4,   4,   4,   4,   4,   4,   4,   4,   4,   4,   4,   4,\n",
       "           4,   4,   4,   4,   4,   4,   4,   4,   4,   4,   4,   4,   4,   5,\n",
       "           6,   6,   6,   6,   6,   6,   6,   6,   6,   6,   7,   7,   1,   1,\n",
       "           1,   1,   2,   4,   4,   4,   4,   4,   4,   4,   4,   4,   4,   4,\n",
       "           4,   4,   4,   4,   4,   4,   4,   4,   4,   4,   4,   4,   4,   4,\n",
       "           4,   4,   4,   4,   4,   4,   4,   7,   7,   7],\n",
       "        [  5,   3,   6,   1,   2,  74,  69,  42,  75,  10,  10,  10,  10,  10,\n",
       "          10,  10,  10,  10,  10,  10,  10,  10,  10,  10,  10,  10,  10,  10,\n",
       "          10,  10,  10,  10,  10,  10,  10,  10,  10,  10,  10,  10,  10,  10,\n",
       "          10,  10,  10,  10,  10,  10,  10,  10,  10,  10,  10,  10,  10,  10,\n",
       "          10,  10,  10,  10,  10,  10,  10,  10,  10,  10,  10,  10,  10,  10,\n",
       "          10,  10,  10,  10,  10,  10,  10,  10,  10,  10,  10,  10,  10,   8,\n",
       "          97,  78,  79,  79,  79,  78,  80,  82,  83,  78,  70,   7,  70,  77,\n",
       "          76,  76,   8,  10,  10,  10,  10,  10,  10,  10,  10,  10,  10,  10,\n",
       "          10,  10,  10,  10,  10,  10,  10,  10,  10,  10,  10,  10,  10,  10,\n",
       "          10,  10,  10,  10,  10,  10,  10,  71,  73,  72]])"
      ]
     },
     "execution_count": 9,
     "metadata": {},
     "output_type": "execute_result"
    }
   ],
   "source": [
    "coba[3]"
   ]
  },
  {
   "cell_type": "code",
   "execution_count": 10,
   "metadata": {},
   "outputs": [
    {
     "data": {
      "text/plain": [
       "\"['hydrogen', 'carbon', 'oxygen']\""
      ]
     },
     "execution_count": 10,
     "metadata": {},
     "output_type": "execute_result"
    }
   ],
   "source": [
    "coba[4]"
   ]
  },
  {
   "cell_type": "markdown",
   "metadata": {},
   "source": [
    "# Subgraph"
   ]
  },
  {
   "cell_type": "code",
   "execution_count": 11,
   "metadata": {},
   "outputs": [],
   "source": [
    "path = \"../../data/subgraph-gen/text2kg/proc\"\n",
    "\n",
    "id2entity = load_id2map(os.path.join(path, \"entities.txt\"))\n",
    "id2relation = load_id2map(os.path.join(path, \"relations.txt\"))"
   ]
  },
  {
   "cell_type": "code",
   "execution_count": 12,
   "metadata": {},
   "outputs": [],
   "source": [
    "sgds = SubgraphGenerationDataset(os.path.join(path, \"train.json\"), id2entity, id2relation)"
   ]
  },
  {
   "cell_type": "code",
   "execution_count": 13,
   "metadata": {},
   "outputs": [],
   "source": [
    "coba = sgds[0]"
   ]
  },
  {
   "cell_type": "code",
   "execution_count": 15,
   "metadata": {},
   "outputs": [
    {
     "data": {
      "text/plain": [
       "'Ahmet Ertegun was born in Istanbul, Turkey and his genre is rhythm and blues. Disco derives from rhythm and blues.'"
      ]
     },
     "execution_count": 15,
     "metadata": {},
     "output_type": "execute_result"
    }
   ],
   "source": [
    "coba[0]"
   ]
  },
  {
   "cell_type": "code",
   "execution_count": 16,
   "metadata": {},
   "outputs": [
    {
     "data": {
      "text/plain": [
       "['Ahmet_Ertegun',\n",
       " 'Abradab',\n",
       " 'Disco',\n",
       " 'Funk',\n",
       " 'Jazz',\n",
       " 'Rhythm_and_blues',\n",
       " 'Drum_and_bass',\n",
       " '\"Istanbul, Turkey\"',\n",
       " 'Hip_hop_music']"
      ]
     },
     "execution_count": 16,
     "metadata": {},
     "output_type": "execute_result"
    }
   ],
   "source": [
    "coba[1]"
   ]
  },
  {
   "cell_type": "code",
   "execution_count": 17,
   "metadata": {},
   "outputs": [
    {
     "data": {
      "text/plain": [
       "['birthPlace', 'stylisticOrigin', 'derivative', 'genre']"
      ]
     },
     "execution_count": 17,
     "metadata": {},
     "output_type": "execute_result"
    }
   ],
   "source": [
    "coba[2]"
   ]
  },
  {
   "cell_type": "code",
   "execution_count": 18,
   "metadata": {},
   "outputs": [
    {
     "data": {
      "text/plain": [
       "tensor([[8, 0, 8, 0, 5, 8, 1, 8],\n",
       "        [1, 0, 1, 3, 2, 2, 3, 1],\n",
       "        [3, 7, 4, 5, 2, 6, 8, 2]])"
      ]
     },
     "execution_count": 18,
     "metadata": {},
     "output_type": "execute_result"
    }
   ],
   "source": [
    "coba[3]"
   ]
  },
  {
   "cell_type": "code",
   "execution_count": 19,
   "metadata": {},
   "outputs": [
    {
     "data": {
      "text/plain": [
       "[0, 1, 0, 1, 1, 0, 0, 0]"
      ]
     },
     "execution_count": 19,
     "metadata": {},
     "output_type": "execute_result"
    }
   ],
   "source": [
    "coba[4]"
   ]
  },
  {
   "cell_type": "code",
   "execution_count": null,
   "metadata": {},
   "outputs": [],
   "source": []
  }
 ],
 "metadata": {
  "kernelspec": {
   "display_name": "base",
   "language": "python",
   "name": "python3"
  },
  "language_info": {
   "codemirror_mode": {
    "name": "ipython",
    "version": 3
   },
   "file_extension": ".py",
   "mimetype": "text/x-python",
   "name": "python",
   "nbconvert_exporter": "python",
   "pygments_lexer": "ipython3",
   "version": "3.9.17"
  }
 },
 "nbformat": 4,
 "nbformat_minor": 2
}
